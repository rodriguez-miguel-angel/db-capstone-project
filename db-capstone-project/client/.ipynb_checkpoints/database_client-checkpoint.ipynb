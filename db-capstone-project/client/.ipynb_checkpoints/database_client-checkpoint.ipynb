{
 "cells": [
  {
   "cell_type": "code",
   "execution_count": 2,
   "id": "796e5fb4-3ca3-4cb7-9500-41ae9ec4ee99",
   "metadata": {},
   "outputs": [
    {
     "name": "stdout",
     "output_type": "stream",
     "text": [
      "Requirement already satisfied: mysql-connector-python in c:\\python311\\lib\\site-packages (8.1.0)\n",
      "Requirement already satisfied: protobuf<=4.21.12,>=4.21.1 in c:\\python311\\lib\\site-packages (from mysql-connector-python) (4.21.12)\n"
     ]
    }
   ],
   "source": [
    "!pip install mysql-connector-python"
   ]
  },
  {
   "cell_type": "code",
   "execution_count": 2,
   "id": "cbc18bbb-3f2e-42d0-83c8-b290a7043b52",
   "metadata": {},
   "outputs": [],
   "source": [
    "import mysql.connector as connector"
   ]
  },
  {
   "cell_type": "code",
   "execution_count": 4,
   "id": "0132f912-f42e-4579-89ed-f0c1e1e84283",
   "metadata": {},
   "outputs": [],
   "source": [
    "connection = connector.connect(user = \"db-capstone-user\", password = \"nas-my-way.mccarthy-blood-meridian.\")"
   ]
  },
  {
   "cell_type": "code",
   "execution_count": 3,
   "id": "4e5b92db-30fd-41da-aedc-bb7ced37fbb3",
   "metadata": {},
   "outputs": [],
   "source": [
    "connection = connector.connect(user = \"db-capstone-user\", password = \"nas-my-way.mccarthy-blood-meridian.\", db = \"littlelemondb\")"
   ]
  },
  {
   "cell_type": "code",
   "execution_count": 4,
   "id": "9e13b60c-2c72-4d2b-9a64-ee51f7de72d8",
   "metadata": {},
   "outputs": [],
   "source": [
    "# create a cursor object\n",
    "cursor = connection.cursor()\n",
    "show_tables_query = \"SHOW tables\" \n",
    "cursor.execute(show_tables_query)"
   ]
  },
  {
   "cell_type": "code",
   "execution_count": 5,
   "id": "3d76b8f9-7013-4fcc-bf0d-b9622b008f26",
   "metadata": {},
   "outputs": [
    {
     "name": "stdout",
     "output_type": "stream",
     "text": [
      "('address',)\n",
      "('bookings',)\n",
      "('category',)\n",
      "('cuisinecategory',)\n",
      "('customers',)\n",
      "('delivery',)\n",
      "('littlelemonjoinview',)\n",
      "('littlelemonsubqueryview',)\n",
      "('menuitems',)\n",
      "('menus',)\n",
      "('notifications',)\n",
      "('orders',)\n",
      "('ordersview',)\n",
      "('staff',)\n"
     ]
    }
   ],
   "source": [
    "# retrieve the query outcomes in a variable 'results'\n",
    "results = cursor.fetchall()\n",
    "# use for loop to print the names of all the tables\n",
    "for table in results:\n",
    "    print(table)"
   ]
  },
  {
   "cell_type": "code",
   "execution_count": 16,
   "id": "fe8c6950-4f1c-499b-97c7-d00946a6d493",
   "metadata": {},
   "outputs": [
    {
     "name": "stdout",
     "output_type": "stream",
     "text": [
      "Data in the \"Customers\" table: The full name and contact details for every customer that has placed an order greater than $60 for a promotional campaign.\n",
      "('FullName', 'Email', 'ContactNumber')\n",
      "('Mario Lopez', 'Lopez.Mario@abc.com', '213-458-2055')\n"
     ]
    }
   ],
   "source": [
    "# Customers (CustomerID, FirstName, LastName, Email, ContactNumber)\n",
    "# Orders (OrderID, OrderDate, Quantity, TotalCost, CustomerID, MenuID)\n",
    "\n",
    "select_stmt = \"\"\"\n",
    "Select concat(c.FirstName, ' ', c.LastName) as FullName, c.Email, c.ContactNumber \n",
    "from Customers as c\n",
    "inner join Orders as o on o.CustomerID = c.CustomerID\n",
    "where o.TotalCost > 60\n",
    "order by o.TotalCost desc;\n",
    "\"\"\"\n",
    "cursor.execute(select_stmt)\n",
    "\n",
    "# Retrieve column names\n",
    "cols = cursor.column_names\n",
    "\n",
    "# Fetch all results that satisfy the query\n",
    "results = cursor.fetchall()\n",
    "\n",
    "# Print column names and distinct records from results using for loop\n",
    "print(\"\"\"Data in the \"Customers\" table: The full name and contact details for every customer that has placed an order greater than $60 for a promotional campaign.\"\"\")\n",
    "print(cols)\n",
    "\n",
    "distinct_results = set(results)\n",
    "for distinct_result in distinct_results:\n",
    "    print(distinct_result)\n",
    "\n"
   ]
  },
  {
   "cell_type": "code",
   "execution_count": null,
   "id": "5bef23a2-c013-47ea-b9d3-ef336508cea9",
   "metadata": {},
   "outputs": [],
   "source": []
  }
 ],
 "metadata": {
  "kernelspec": {
   "display_name": "Python 3 (ipykernel)",
   "language": "python",
   "name": "python3"
  },
  "language_info": {
   "codemirror_mode": {
    "name": "ipython",
    "version": 3
   },
   "file_extension": ".py",
   "mimetype": "text/x-python",
   "name": "python",
   "nbconvert_exporter": "python",
   "pygments_lexer": "ipython3",
   "version": "3.11.4"
  }
 },
 "nbformat": 4,
 "nbformat_minor": 5
}
